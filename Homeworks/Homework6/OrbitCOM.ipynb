{
 "cells": [
  {
   "cell_type": "code",
   "execution_count": 22,
   "metadata": {},
   "outputs": [],
   "source": [
    "# Homework 6 Template\n",
    "# G. Besla & R. Li"
   ]
  },
  {
   "cell_type": "code",
   "execution_count": 28,
   "metadata": {},
   "outputs": [
    {
     "ename": "ModuleNotFoundError",
     "evalue": "No module named 'CenterOfMass_Solution'",
     "output_type": "error",
     "traceback": [
      "\u001b[1;31m---------------------------------------------------------------------------\u001b[0m",
      "\u001b[1;31mModuleNotFoundError\u001b[0m                       Traceback (most recent call last)",
      "\u001b[1;32m~\\AppData\\Local\\Temp/ipykernel_16660/4082269901.py\u001b[0m in \u001b[0;36m<module>\u001b[1;34m\u001b[0m\n\u001b[0;32m     13\u001b[0m \u001b[1;31m# Step 1: modify CenterOfMass so that COM_P now takes a parameter specifying\u001b[0m\u001b[1;33m\u001b[0m\u001b[1;33m\u001b[0m\u001b[0m\n\u001b[0;32m     14\u001b[0m \u001b[1;31m# by how much to decrease RMAX instead of a factor of 2\u001b[0m\u001b[1;33m\u001b[0m\u001b[1;33m\u001b[0m\u001b[0m\n\u001b[1;32m---> 15\u001b[1;33m \u001b[1;32mfrom\u001b[0m \u001b[0mCenterOfMass_Solution\u001b[0m \u001b[1;32mimport\u001b[0m \u001b[0mCenterOfMass\u001b[0m\u001b[1;33m\u001b[0m\u001b[1;33m\u001b[0m\u001b[0m\n\u001b[0m\u001b[0;32m     16\u001b[0m \u001b[1;33m\u001b[0m\u001b[0m\n",
      "\u001b[1;31mModuleNotFoundError\u001b[0m: No module named 'CenterOfMass_Solution'"
     ]
    }
   ],
   "source": [
    "# import modules\n",
    "import numpy as np\n",
    "import astropy.units as u\n",
    "from astropy.constants import G\n",
    "\n",
    "# import plotting modules\n",
    "import matplotlib.pyplot as plt\n",
    "import matplotlib\n",
    "%matplotlib inline\n",
    "\n",
    "# my modules\n",
    "from ReadFile import Read\n",
    "# Step 1: modify CenterOfMass so that COM_P now takes a parameter specifying \n",
    "# by how much to decrease RMAX instead of a factor of 2\n",
    "from CenterOfMass_Solution import CenterOfMass\n",
    "\n"
   ]
  },
  {
   "cell_type": "code",
   "execution_count": 29,
   "metadata": {},
   "outputs": [],
   "source": [
    "def OrbitCOM(galaxy, start, end, n):\n",
    "    \"\"\"function that loops over all the desired snapshots to compute the COM pos and vel as a function of time.\n",
    "    inputs: \n",
    "        galaxy: name of galaxy\n",
    "        start: start of loop\n",
    "        end: end of loop\n",
    "        n: integer value  \n",
    "    outputs: \n",
    "        A file that contains the data for Orbit\n",
    "    \"\"\"\n",
    "    \n",
    "    # compose the filename for output\n",
    "    fileout = \"Orbit.galaxyname.txt\"\n",
    "    time,  total,  data = Read(filename)                                                                                                                             \n",
    "    index = np.where( data['type'] == ptype)\n",
    "    delta = 1\n",
    "    volDec = 2\n",
    "    if galaxy == \"M33\":\n",
    "        volDec = 4\n",
    "    snap_ids = np.arange(start,end,1)\n",
    "    orbit = np.zeros([len(np.arange),7])\n",
    "    m =  data['m'][ index]\n",
    "    x =  data['x'][ index]\n",
    "    y =  data['y'][ index]\n",
    "    z =  data['z'][ index]\n",
    "    vx =  data['vx'][ index]\n",
    "    vy =  data['vy'][ index]\n",
    "    vz =  data['vz'][ index]\n",
    "    change = 1000.0\n",
    "    x_COM, y_COM, z_COM = CenterOfMass.COMdefine(x,y,z, m)\n",
    "    r_COM = np.sqrt(x_COM**2 + y_COM**2 + z_COM**2)\n",
    "    x_new = self.x - x_COM\n",
    "    y_new = self.y - y_COM\n",
    "    z_new = self.z - z_COM\n",
    "    r_new = np.sqrt(x_new**2.0 + y_new**2.0 +z_new**2.0)\n",
    "    r_max = max(r_new)/volDec\n",
    "     \n",
    "    #  set tolerance and VolDec for calculating COM_P in CenterOfMass\n",
    "    # for M33 that is stripped more, use different values for VolDec\n",
    "\n",
    "    \n",
    "    # generate the snapshot id sequence \n",
    "    # it is always a good idea to also check if the input is eligible (not required)\n",
    "    \n",
    "    \n",
    "    # initialize the array for orbital info: t, x, y, z, vx, vy, vz of COM\n",
    "    \n",
    "    \n",
    "    # a for loop \n",
    "    for i, snap_id in enumerate(snap_ids):\n",
    "        ilbl = '000' + str(Snap)\n",
    "        ilbl = ilbl[-3:]\n",
    "        self.filename = \"%s_\"%(galaxy) + ilbl + '.txt'\n",
    "        com = CenterOfMass(self.filename,2)\n",
    "        comp = com.COM_P(1,2)\n",
    "        comv = com.COM_V(x_COM,y_COM,z_COM)\n",
    "        orbit = orbit[:,0]/1000 * u.Gyr\n",
    "        orbit.append(comp)\n",
    "        orbit.append(comv)\n",
    "        print(i)\n",
    "        print(snap_id)\n",
    "    # write the data to a file\n",
    "    # we do this because we don't want to have to repeat this process \n",
    "    # this code should only have to be called once per galaxy.\n",
    "    np.savetxt(fileout, orbit, fmt = \"%11.3f\"*7, comments='#',\n",
    "               header=\"{:>10s}{:>11s}{:>11s}{:>11s}{:>11s}{:>11s}{:>11s}\"\\\n",
    "                      .format('t', 'x', 'y', 'z', 'vx', 'vy', 'vz'))"
   ]
  },
  {
   "cell_type": "code",
   "execution_count": 30,
   "metadata": {},
   "outputs": [],
   "source": [
    "# Recover the orbits and generate the COM files for each galaxy\n",
    "# read in 800 snapshots in intervals of n=5\n",
    "# Note: This might take a little while - test your code with a smaller number of snapshots first! \n"
   ]
  },
  {
   "cell_type": "code",
   "execution_count": 31,
   "metadata": {},
   "outputs": [],
   "source": [
    "# Read in the data files for the orbits of each galaxy that you just created\n",
    "# headers:  t, x, y, z, vx, vy, vz\n",
    "# using np.genfromtxt\n",
    "\n"
   ]
  },
  {
   "cell_type": "code",
   "execution_count": 15,
   "metadata": {},
   "outputs": [],
   "source": [
    "# function to compute the magnitude of the difference between two vectors \n",
    "# You can use this function to return both the relative position and relative velocity for two \n",
    "# galaxies over the entire orbit  \n"
   ]
  },
  {
   "cell_type": "code",
   "execution_count": 5,
   "metadata": {},
   "outputs": [],
   "source": [
    "# Determine the magnitude of the relative position and velocities \n",
    "\n",
    "# of MW and M31\n",
    "\n",
    "# of M33 and M31\n"
   ]
  },
  {
   "cell_type": "code",
   "execution_count": 6,
   "metadata": {},
   "outputs": [],
   "source": [
    "# Plot the Orbit of the galaxies \n",
    "#################################\n",
    "\n"
   ]
  },
  {
   "cell_type": "code",
   "execution_count": 7,
   "metadata": {},
   "outputs": [],
   "source": [
    "# Plot the orbital velocities of the galaxies \n",
    "#################################\n"
   ]
  },
  {
   "cell_type": "code",
   "execution_count": null,
   "metadata": {},
   "outputs": [],
   "source": []
  }
 ],
 "metadata": {
  "kernelspec": {
   "display_name": "Python 3 (ipykernel)",
   "language": "python",
   "name": "python3"
  },
  "language_info": {
   "codemirror_mode": {
    "name": "ipython",
    "version": 3
   },
   "file_extension": ".py",
   "mimetype": "text/x-python",
   "name": "python",
   "nbconvert_exporter": "python",
   "pygments_lexer": "ipython3",
   "version": "3.9.7"
  }
 },
 "nbformat": 4,
 "nbformat_minor": 2
}
