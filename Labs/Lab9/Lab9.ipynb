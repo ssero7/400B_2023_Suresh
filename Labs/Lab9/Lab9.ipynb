{
 "cells": [
  {
   "cell_type": "markdown",
   "metadata": {
    "ExecuteTime": {
     "end_time": "2020-01-26T08:48:31.926693Z",
     "start_time": "2020-01-26T08:48:31.923116Z"
    }
   },
   "source": [
    "# Lab 9 Dynamical Friction\n",
    "\n",
    "Starting from the Homework 7 Solutions, add Dynamical Friction to better match the simulation data. \n",
    "\n"
   ]
  },
  {
   "cell_type": "code",
   "execution_count": 1,
   "metadata": {
    "ExecuteTime": {
     "end_time": "2020-03-16T03:13:30.748911Z",
     "start_time": "2020-03-16T03:13:30.745053Z"
    }
   },
   "outputs": [
    {
     "ename": "ModuleNotFoundError",
     "evalue": "No module named 'CenterOfMass2'",
     "output_type": "error",
     "traceback": [
      "\u001b[1;31m---------------------------------------------------------------------------\u001b[0m",
      "\u001b[1;31mModuleNotFoundError\u001b[0m                       Traceback (most recent call last)",
      "\u001b[1;32m~\\AppData\\Local\\Temp/ipykernel_9680/241361282.py\u001b[0m in \u001b[0;36m<module>\u001b[1;34m\u001b[0m\n\u001b[0;32m     12\u001b[0m \u001b[1;33m\u001b[0m\u001b[0m\n\u001b[0;32m     13\u001b[0m \u001b[1;31m# import the CenterOfMass to determine the COM pos/vel of M33\u001b[0m\u001b[1;33m\u001b[0m\u001b[1;33m\u001b[0m\u001b[0m\n\u001b[1;32m---> 14\u001b[1;33m \u001b[1;32mfrom\u001b[0m \u001b[0mCenterOfMass2\u001b[0m \u001b[1;32mimport\u001b[0m \u001b[0mCenterOfMass\u001b[0m\u001b[1;33m\u001b[0m\u001b[1;33m\u001b[0m\u001b[0m\n\u001b[0m\u001b[0;32m     15\u001b[0m \u001b[1;31m# import the GalaxyMass to determine the mass of M31 for each component\u001b[0m\u001b[1;33m\u001b[0m\u001b[1;33m\u001b[0m\u001b[0m\n\u001b[0;32m     16\u001b[0m \u001b[1;32mfrom\u001b[0m \u001b[0mGalaxyMass\u001b[0m \u001b[1;32mimport\u001b[0m \u001b[0mComponentMass\u001b[0m\u001b[1;33m\u001b[0m\u001b[1;33m\u001b[0m\u001b[0m\n",
      "\u001b[1;31mModuleNotFoundError\u001b[0m: No module named 'CenterOfMass2'"
     ]
    }
   ],
   "source": [
    "# import necessary modules\n",
    "# numpy provides powerful multi-dimensional arrays to hold and manipulate data\n",
    "import numpy as np\n",
    "# matplotlib provides powerful functions for plotting figures\n",
    "import matplotlib.pyplot as plt\n",
    "# astropy provides unit system and constants for astronomical calculations\n",
    "import astropy.units as u\n",
    "import astropy.constants as const\n",
    "# import Latex module so we can display the results with symbols\n",
    "from IPython.display import Latex\n",
    "%matplotlib inline\n",
    "\n",
    "# import the CenterOfMass to determine the COM pos/vel of M33\n",
    "from CenterOfMass2 import CenterOfMass\n",
    "# import the GalaxyMass to determine the mass of M31 for each component\n",
    "from GalaxyMass import ComponentMass"
   ]
  },
  {
   "cell_type": "markdown",
   "metadata": {},
   "source": [
    "# M33AnalyticOrbit - Version 2\n",
    "\n",
    "1. Add a new variable to the initialization for the class,  `self.M33halo`,  that defines M33's halo mass.\n",
    "\n",
    "2. Add a new varaible to the initialization of the class, `self.Vc`, the circular speed of the halo at large radii from M31.\n",
    "\n",
    "3. Add a function called `DynamicalFriction` that takes as inputs (Msat,r,v), and computes the acceleration, assuming an isothermal sphere profile for the dark matter halo of M31.\n",
    "\n",
    "$ {\\bf a} =  -0.428 \\frac{GM_{\\rm sat} \\rm{ln}(\\Lambda)}{r^2} \\frac{\\bf v}{v} $ \n",
    "\n",
    "Where the ${\\rm ln}(\\Lambda)$ is the Coulomb logairthm \n",
    "\n",
    "$\\Lambda = \\frac{bmax}{bmin} $\n",
    "\n",
    "$bmax$ = the current separation between M31 and M33 and \n",
    "\n",
    "$bmin = \\frac{GM_{sat}}{V_c^2}$\n",
    "\n",
    "4. Include this function in M33Accel.  Note that it will require a new input, v (velocity vector). This must be accounted for also when M33Accel is called in LeapFrog \n",
    "\n",
    "5. If the orbit doesn't match well. Add a fudge factor (`self.fudge`) that is some fraction of 1 to decrease the strength of the dynamical friction term. \n",
    "\n",
    "6. What other reasons might there be for why the orbits don't match?"
   ]
  },
  {
   "cell_type": "code",
   "execution_count": null,
   "metadata": {
    "ExecuteTime": {
     "end_time": "2020-03-16T03:08:14.820296Z",
     "start_time": "2020-03-16T03:08:14.800707Z"
    }
   },
   "outputs": [],
   "source": [
    "class M33AnalyticOrbit:\n",
    "    '''Class that integrates the orbit of M33 based on the analytic form of M31's potential'''\n",
    "    \n",
    "    \n",
    "    def __init__(self, filename):\n",
    "        '''\n",
    "        This class uses leapfrog integration to calculate the orbit of M33 around M31,\n",
    "        using the analytic potentials for each of M31's components.\n",
    "\n",
    "        PARAMETERS\n",
    "        ----------\n",
    "        filename : `str`\n",
    "            Name of the file in which to store the orbit\n",
    "        '''    \n",
    "        \n",
    "        # get the gravitational constant (the value is 4.498502151575286e-06)\n",
    "        self.G = const.G.to(u.kpc**3/u.Msun/u.Gyr**2).value\n",
    "        \n",
    "        # store the output file name\n",
    "        self.filename = filename\n",
    "        \n",
    "        # get the COM position and velocity of each galaxy using disk particles\n",
    "        \n",
    "        # COM object \n",
    "        com_M31 = CenterOfMass('M31_000.txt', 2) # COM object for M31\n",
    "        com_M33 = CenterOfMass('M33_000.txt', 2) # COM object for M33\n",
    "        # COM Pos and Velocity for M31\n",
    "        com_p_M31 = com_M31.COM_P(volDec=2, delta=0.1)\n",
    "        com_v_M31 = com_M31.COM_V(com_p_M31[0], com_p_M31[1], com_p_M31[2])\n",
    "        # COM Pos and Velocity for for M33\n",
    "        com_p_M33 = com_M33.COM_P(volDec=4, delta=0.1)\n",
    "        com_v_M33 = com_M33.COM_V(com_p_M33[0], com_p_M33[1], com_p_M33[2])\n",
    "\n",
    "        # set up initial conditions (M33 pos and velocity relative to M31)\n",
    "        self.r0 = (com_p_M33 - com_p_M31).value # separation vector in kpc\n",
    "        self.v0 = (com_v_M33 - com_v_M31).value # relative velocity in km/s\n",
    "             \n",
    "            \n",
    "            \n",
    "        # set up M31 potential parameters\n",
    "        \n",
    "        # M31 disk\n",
    "        self.rdisk = 5.0 # disk scale length in kpc\n",
    "        self.Mdisk = ComponentMass(\"M31_000.txt\", 2)*1e12 # disk mass in Msun\n",
    "        \n",
    "        # M31 bulge\n",
    "        self.rbulge = 1.0 # bulge scale length in kpc\n",
    "        self.Mbulge = ComponentMass(\"M31_000.txt\", 3)*1e12 # bulge mass in Msun\n",
    "        \n",
    "        # M31 Halo\n",
    "        self.rhalo = 61.58 # Halo Scale Length: use the Hernquist scale length, computed in HW5\n",
    "        self.Mhalo = ComponentMass(\"M31_000.txt\", 1)*1e12  # halo mass in Msun\n",
    "     \n",
    "        \n",
    "        ### ADD M33 HALO MASS HERE #### \n",
    "        self.M33halo* ComponentMass(\"M33_000.txt\",1)*1e12\n",
    "        \n",
    "    \n",
    "        ### ADD M31 CIRCULAR SPEED HERE ### \n",
    "        self.Vc = 180 #Circular speed in km/s (M31 halo )\n",
    "        \n",
    "        ### Fudge factor ## \n",
    "    \n",
    "    \n",
    "    \n",
    "    \n",
    "    def HernquistAccel(self, M, r_a, r):\n",
    "        '''\n",
    "        This method computes the 3-D acceleration due to a Hernquist potential.\n",
    "\n",
    "        PARAMETERS\n",
    "        ----------\n",
    "        M : `float`\n",
    "            Total mass responsible for the potential in Msun\n",
    "        r_a : `float`\n",
    "            Scale length in kpc\n",
    "        r : `np.ndarray`\n",
    "            Position vector to find the acceleration at\n",
    "\n",
    "        RETURNS\n",
    "        -------\n",
    "        a : `np.ndarray`\n",
    "            Acceleration vector in kpc/Gyr^2\n",
    "        '''\n",
    "\n",
    "        # follow the formula in the HW instructions\n",
    "        r_mag = np.sqrt(np.sum(r**2))\n",
    "        \n",
    "        # Acceleration for a Hernquist Potential\n",
    "        # Terms that are constant per component\n",
    "        M_const = self.G * M / (r_mag * (r_a + r_mag)**2) \n",
    "        a = -M_const*r # acceleration per component\n",
    "        \n",
    "        return a\n",
    "    \n",
    "    \n",
    "    \n",
    "    def MiyamotoNagaiAccel(self, M, rd, r):\n",
    "        '''\n",
    "        This method computes the 3-D acceleration due to a Miyamoto-Nagai disk.\n",
    "\n",
    "        PARAMETERS\n",
    "        ----------\n",
    "        M : `float`\n",
    "            Disk mass responsible for the potential in Msun\n",
    "        r_d : `float`\n",
    "            Disk scale length in kpc\n",
    "        r : `np.ndarray`\n",
    "            Position vector to find the acceleration (kpc)\n",
    "\n",
    "        RETURNS\n",
    "        -------\n",
    "        a : `np.ndarray`\n",
    "            Acceleration vector in kpc/Gyr^2\n",
    "        '''\n",
    "        # follow the formula for a Miyamoto-Nagai Disk from the HW instructions\n",
    "       \n",
    "        # Intermediate Terms\n",
    "        R2 = np.sum(r[:2]**2)\n",
    "        zd = rd / 5.0\n",
    "        B = rd + np.sqrt(r[2]**2 + zd**2)\n",
    "        \n",
    "        # constant term in all three components\n",
    "        M_const = self.G * M / (R2 + B**2)**1.5\n",
    "        \n",
    "        # vector of additional terms\n",
    "        # the np.array allows for a different value for the z component of the acceleration\n",
    "        vec = np.array([1., 1., B/np.sqrt(r[2]**2 + zd**2)])\n",
    "        \n",
    "        # Acceleration\n",
    "        a = -M_const*vec*r\n",
    "       \n",
    "        return a\n",
    "    \n",
    "    ########### ADD Dynamical Friction Method Here ##################\n",
    "    def DynamicalFriction(self, Msat, Vc, r, v):\n",
    "        \"\"\"Method that returns the decelaration from dynamical friction\n",
    "        a = -0.428 G Msat ln(lambda) /rmag^2 * v/mag\n",
    "        \n",
    "        Parameters\n",
    "        \n",
    "        Msat: 'float'\n",
    "            Mass of the satellite (M33) in Msun\n",
    "        Vc: 'float'\n",
    "            Max circular velocity of the host's (M31) dark matter halo (km/s)\n",
    "        r: 'np.ndarray'\n",
    "            Position vector of the satellite relative to the host( rM33 -rM31 ) in kpc\n",
    "        v: 'np.ndarray'\n",
    "            Velocity vector of the satellite relative to the host (vM33 - vM31) in km/s\n",
    "        Outputs\n",
    "        \n",
    "        DF: 'np.ndarray'\n",
    "            Deceleration vector owing to Dynamical friction (km/s^2)\n",
    "         \n",
    "        \"\"\"\n",
    "        r_mag = np.sqrt(r[0]**2 + r[1]**2 + r[2]**2) #Magnitude of the position vector\n",
    "        v_mag = np.sqrt(v[0]**2 + v[1]**2 + v[2]**2) #Magnitude of the velocity vector\n",
    "        \n",
    "        bmax = r_mag #seperation between M33 and M31\n",
    "        bmin = self.G*Msat/Vc**2 # G Msat/Vc**2\n",
    "        Culomb = np.log(bmax/bmin)\n",
    "        DF = -0.428*self.G*Msat*Culomb/r_mag**2*v/v_mag\n",
    "        return DF\n",
    "        \n",
    "     ##### ADD v to M31Accel input #### \n",
    "    def M31Accel(self, r, v):\n",
    "        '''\n",
    "        This method computes the 3-D acceleration due to M31.\n",
    "\n",
    "        PARAMETERS\n",
    "        ----------\n",
    "        r : `np.ndarray`\n",
    "            Position vector to find the acceleration at\n",
    "        v : 'np.ndarray'\n",
    "            Velocity vector for DF calculation (km/s)\n",
    "\n",
    "        RETURNS\n",
    "        -------\n",
    "        a : `np.ndarray`\n",
    "            Acceleration vector in kpc/Gyr^2\n",
    "        '''\n",
    "        \n",
    "        # Compute the acceleration from each galaxy component\n",
    "        ahalo = self.HernquistAccel(self.Mhalo, self.rhalo, r) \n",
    "        abulge = self.HernquistAccel(self.Mbulge, self.rbulge, r) \n",
    "        adisk = self.MiyamotoNagaiAccel(self.Mdisk, self.rdisk, r)\n",
    "    \n",
    "        ###### ADD DYNAMICAL FRICTION HERE and include in \"a\"\n",
    "        aDF = self.DynamicalFriction(self.M33halo, self.Vc, r, v)\n",
    "        a = ahalo+abulge+adisk+aDF\n",
    "        \n",
    "        return a # return the total acceleration\n",
    "    \n",
    "    \n",
    "    def LeapFrog(self, dt, r, v):\n",
    "        '''This method is a leapfrog integrator for evolving the position\n",
    "        and velocity of M33 in time. One call produces one timestep.\n",
    "\n",
    "        PARAMETERS\n",
    "        ----------\n",
    "        dt : `float`\n",
    "            timestep in Gyr\n",
    "        r : `np.ndarray`\n",
    "            position vector at the start of the timestep in kpc\n",
    "        v : `np.ndarray`\n",
    "            velocity vector at the start of the timestep in km/s\n",
    "\n",
    "        RETURNS\n",
    "        -------\n",
    "        rnext : `np.ndarray`\n",
    "            position vector at the end of the timestep in kpc\n",
    "        vnext : `np.ndarray`\n",
    "            velocity vector at the end of the timestep in km/s\n",
    "        '''\n",
    "        \n",
    "        # predict the position at the next half timestep\n",
    "        r_half = r + v * (dt / 2.0)\n",
    "        \n",
    "        # compute the velocity at the next timestep\n",
    "        ##### ADD v as input to M31Accel ### \n",
    "        vnext = v + self.M31Accel(r_half, v) * dt\n",
    "        \n",
    "        # compute the position at the next timestep\n",
    "        rnext = r + (vnext+v) * dt / 2.0\n",
    "        \n",
    "        return rnext, vnext\n",
    "    \n",
    "    \n",
    "    \n",
    "    def OrbitIntegration(self, t0, dt, tmax):\n",
    "        '''This method integrates the orbit of M33 and stores the position\n",
    "            and velocity of M33 (in the COM frame of M31) at each timestep in a file. \n",
    "\n",
    "        PARAMETERS\n",
    "        ----------\n",
    "        t0 : `float`\n",
    "            Start time in Gyr\n",
    "        dt : `float`\n",
    "            Timestep in Gyr\n",
    "        tmax : `float`\n",
    "            End time in Gyr\n",
    "        ''' \n",
    "        \n",
    "        # find out how many timesteps we have\n",
    "        N_steps = int((tmax - t0)/dt)+1 # add 1 to account for the integer rounding\n",
    "        \n",
    "        # set up orbit array, two more rows than t/dt allow for storing the ICs\n",
    "        # and account for the rounding of the number of time intervals to an integer\n",
    "        orbit = np.zeros([N_steps+1, 7]) # first row will be for the ICs\n",
    "        #orbit = np.zeros([int(tmax/dt)+2, 7])\n",
    "        \n",
    "        \n",
    "        \n",
    "        # initialize the time , position, velocity\n",
    "        t = t0 # initial time\n",
    "        r = self.r0 # initial p\n",
    "        v = self.v0 # initial v\n",
    "        \n",
    "        # and store the ICs for M33 in the first row of the orbit file\n",
    "        # Initial time, initial position relative to M31, initial velocity relative to M31\n",
    "        orbit[0] = t0, *tuple(r), *tuple(v)\n",
    "        \n",
    "        \n",
    "        i = 1 # step counter, starts at 1 since the 0th timestep is the ICs above.\n",
    "        \n",
    "        # start the integration\n",
    "        while (t < tmax):\n",
    "            # update time\n",
    "            t += dt\n",
    "            \n",
    "            # update positions and velocities with the leapfrog function\n",
    "            r, v = self.LeapFrog(dt, r, v)\n",
    "            \n",
    "            # store system state\n",
    "            orbit[i] = t, *tuple(r), *tuple(v)\n",
    "            \n",
    "            # print progress and increment step counter\n",
    "            print(f'Finished step {i} of {N_steps}') \n",
    "            \n",
    "            i += 1 # update counter\n",
    "        \n",
    "        # write the data to a file\n",
    "        np.savetxt(self.filename, orbit, fmt = \"%11.3f\"*7, comments='#', \n",
    "                   header=\"{:>10s}{:>11s}{:>11s}{:>11s}{:>11s}{:>11s}{:>11s}\"\\\n",
    "                   .format('t', 'x', 'y', 'z', 'vx', 'vy', 'vz'))\n",
    "        "
   ]
  },
  {
   "cell_type": "code",
   "execution_count": null,
   "metadata": {
    "ExecuteTime": {
     "end_time": "2020-03-16T03:08:17.670110Z",
     "start_time": "2020-03-16T03:08:17.664177Z"
    }
   },
   "outputs": [],
   "source": [
    "# ------------------ FUNCTIONS -------------------# \n",
    "\n",
    "# Set the format for reading in the orbit data files   \n",
    "orbit_type = np.dtype([('t', 'f8'), ('r', 'f8', 3), ('v', 'f8', 3)])\n",
    "\n",
    "\n",
    "def relative_mag(orbit1, orbit2): \n",
    "    \"\"\" Function to compute the relative separation and velocity using input orbit files for two galaxies, \n",
    "    where the orbit files have `orbit_type` formatting: np.dtype([('t', 'f8'), ('r', 'f8', 3), ('v', 'f8', 3)])\n",
    "\n",
    "    PARAMETERS\n",
    "    ----------\n",
    "    orbit1 : `np.ndarray' \n",
    "        first vector, assumed 'orbit_type' formatting\n",
    "    orbit2 : 'np.ndarray'\n",
    "        second vector, assumed 'orbit_type' formatting\n",
    "    RETURNS\n",
    "    -------\n",
    "    rel_pos : `float or np.ndarray`\n",
    "            |pos1 - pos2|\n",
    "    rel_vel :`float or np.ndarray`\n",
    "            |vel1 - vel2|\n",
    "    \"\"\"\n",
    "    \n",
    "    rel_pos = np.sqrt(np.sum((orbit1['r'] - orbit2['r'])**2, axis=1))\n",
    "    rel_vel = np.sqrt(np.sum((orbit1['v'] - orbit2['v'])**2, axis=1))\n",
    "    \n",
    "    return rel_pos,rel_vel\n",
    "                  \n",
    "                  \n",
    "def vector_mag(orbit):\n",
    "    \"\"\" Function to compute the magnitude of the separation and velocity using an input orbit file, \n",
    "    where the orbit files have `orbit_type` formatting: np.dtype([('t', 'f8'), ('r', 'f8', 3), ('v', 'f8', 3)])\n",
    "\n",
    "    PARAMETERS\n",
    "    ----------\n",
    "    orbit : `np.ndarray' \n",
    "        vector, assumed 'orbit_type' formatting\n",
    "        \n",
    "    RETURNS\n",
    "    --------\n",
    "    pos : `float or np.ndarray`\n",
    "         magnitude of the position\n",
    "    vel : `float or np.ndarray`\n",
    "         magnitude of the position  \n",
    "    \n",
    "    \"\"\"              \n",
    "    pos = np.sqrt(np.sum(orbit['r']**2, axis=1)) \n",
    "    vel = np.sqrt(np.sum(orbit['v']**2, axis=1))\n",
    "                      \n",
    "    return pos, vel"
   ]
  },
  {
   "cell_type": "code",
   "execution_count": null,
   "metadata": {
    "ExecuteTime": {
     "end_time": "2020-03-16T03:08:16.418718Z",
     "start_time": "2020-03-16T03:08:15.552091Z"
    }
   },
   "outputs": [],
   "source": [
    "# ------------------- MAIN ---------------------- #\n",
    "\n",
    "\n",
    "# make instance of the orbit integrator class\n",
    "M33 = M33AnalyticOrbit(\"M33AnalyticOrbit_withDF.txt\")\n",
    "\n",
    "# Compute the orbit\n",
    "M33.OrbitIntegration(0, 0.1, 10.)"
   ]
  },
  {
   "cell_type": "code",
   "execution_count": 2,
   "metadata": {
    "ExecuteTime": {
     "end_time": "2020-03-16T03:08:18.051139Z",
     "start_time": "2020-03-16T03:08:18.047567Z"
    }
   },
   "outputs": [
    {
     "ename": "NameError",
     "evalue": "name 'orbit_type' is not defined",
     "output_type": "error",
     "traceback": [
      "\u001b[1;31m---------------------------------------------------------------------------\u001b[0m",
      "\u001b[1;31mNameError\u001b[0m                                 Traceback (most recent call last)",
      "\u001b[1;32m~\\AppData\\Local\\Temp/ipykernel_9680/2561126632.py\u001b[0m in \u001b[0;36m<module>\u001b[1;34m\u001b[0m\n\u001b[0;32m      2\u001b[0m \u001b[1;33m\u001b[0m\u001b[0m\n\u001b[0;32m      3\u001b[0m \u001b[1;31m# Read in Orbit of M33 relative to M31 that we computed using LeapFrog\u001b[0m\u001b[1;33m\u001b[0m\u001b[1;33m\u001b[0m\u001b[0m\n\u001b[1;32m----> 4\u001b[1;33m \u001b[0mM33Orbit\u001b[0m \u001b[1;33m=\u001b[0m \u001b[0mnp\u001b[0m\u001b[1;33m.\u001b[0m\u001b[0mloadtxt\u001b[0m\u001b[1;33m(\u001b[0m\u001b[1;34m\"M33AnalyticOrbit_withDF.txt\"\u001b[0m\u001b[1;33m,\u001b[0m \u001b[0mdtype\u001b[0m\u001b[1;33m=\u001b[0m\u001b[0morbit_type\u001b[0m\u001b[1;33m)\u001b[0m\u001b[1;33m\u001b[0m\u001b[1;33m\u001b[0m\u001b[0m\n\u001b[0m\u001b[0;32m      5\u001b[0m \u001b[1;33m\u001b[0m\u001b[0m\n\u001b[0;32m      6\u001b[0m \u001b[1;31m#Determine the magnitude of the position and velocities of\u001b[0m\u001b[1;33m\u001b[0m\u001b[1;33m\u001b[0m\u001b[0m\n",
      "\u001b[1;31mNameError\u001b[0m: name 'orbit_type' is not defined"
     ]
    }
   ],
   "source": [
    "# With DF \n",
    "\n",
    "# Read in Orbit of M33 relative to M31 that we computed using LeapFrog \n",
    "M33Orbit = np.loadtxt(\"M33AnalyticOrbit_withDF.txt\", dtype=orbit_type)\n",
    "\n",
    "#Determine the magnitude of the position and velocities of \n",
    "# the galaxies at each point in the orbit\n",
    "M31_M33_R, M31_M33_V = vector_mag(M33Orbit)\n"
   ]
  },
  {
   "cell_type": "code",
   "execution_count": 3,
   "metadata": {},
   "outputs": [
    {
     "ename": "NameError",
     "evalue": "name 'orbit_type' is not defined",
     "output_type": "error",
     "traceback": [
      "\u001b[1;31m---------------------------------------------------------------------------\u001b[0m",
      "\u001b[1;31mNameError\u001b[0m                                 Traceback (most recent call last)",
      "\u001b[1;32m~\\AppData\\Local\\Temp/ipykernel_9680/1455282668.py\u001b[0m in \u001b[0;36m<module>\u001b[1;34m\u001b[0m\n\u001b[0;32m      2\u001b[0m \u001b[1;33m\u001b[0m\u001b[0m\n\u001b[0;32m      3\u001b[0m \u001b[1;31m# Read in Orbit of M33 relative to M31 Old, from Homework 7\u001b[0m\u001b[1;33m\u001b[0m\u001b[1;33m\u001b[0m\u001b[0m\n\u001b[1;32m----> 4\u001b[1;33m \u001b[0mM33Orbit_Hmwk7\u001b[0m \u001b[1;33m=\u001b[0m \u001b[0mnp\u001b[0m\u001b[1;33m.\u001b[0m\u001b[0mloadtxt\u001b[0m\u001b[1;33m(\u001b[0m\u001b[1;34m\"M33AnalyticOrbit_Hmwk7.txt\"\u001b[0m\u001b[1;33m,\u001b[0m \u001b[0mdtype\u001b[0m\u001b[1;33m=\u001b[0m\u001b[0morbit_type\u001b[0m\u001b[1;33m)\u001b[0m\u001b[1;33m\u001b[0m\u001b[1;33m\u001b[0m\u001b[0m\n\u001b[0m\u001b[0;32m      5\u001b[0m \u001b[1;33m\u001b[0m\u001b[0m\n\u001b[0;32m      6\u001b[0m \u001b[1;31m#Determine the magnitude of the position and velocities of\u001b[0m\u001b[1;33m\u001b[0m\u001b[1;33m\u001b[0m\u001b[0m\n",
      "\u001b[1;31mNameError\u001b[0m: name 'orbit_type' is not defined"
     ]
    }
   ],
   "source": [
    "# No DF \n",
    "\n",
    "# Read in Orbit of M33 relative to M31 Old, from Homework 7\n",
    "M33Orbit_Hmwk7 = np.loadtxt(\"M33AnalyticOrbit_Hmwk7.txt\", dtype=orbit_type)\n",
    "\n",
    "#Determine the magnitude of the position and velocities of \n",
    "# of MW and M31 : Homework 7 \n",
    "M31_M33_R_Hmwk7, M31_M33_V_Hmwk7 = vector_mag(M33Orbit_Hmwk7)\n",
    "\n"
   ]
  },
  {
   "cell_type": "code",
   "execution_count": 4,
   "metadata": {
    "ExecuteTime": {
     "end_time": "2020-03-16T03:08:16.977732Z",
     "start_time": "2020-03-16T03:08:16.968275Z"
    }
   },
   "outputs": [
    {
     "ename": "NameError",
     "evalue": "name 'orbit_type' is not defined",
     "output_type": "error",
     "traceback": [
      "\u001b[1;31m---------------------------------------------------------------------------\u001b[0m",
      "\u001b[1;31mNameError\u001b[0m                                 Traceback (most recent call last)",
      "\u001b[1;32m~\\AppData\\Local\\Temp/ipykernel_9680/2689981521.py\u001b[0m in \u001b[0;36m<module>\u001b[1;34m\u001b[0m\n\u001b[0;32m      2\u001b[0m \u001b[1;33m\u001b[0m\u001b[0m\n\u001b[0;32m      3\u001b[0m \u001b[1;31m# Read in simulation Orbit from Homework 6\u001b[0m\u001b[1;33m\u001b[0m\u001b[1;33m\u001b[0m\u001b[0m\n\u001b[1;32m----> 4\u001b[1;33m \u001b[0mM33SimOrbit\u001b[0m \u001b[1;33m=\u001b[0m \u001b[0mnp\u001b[0m\u001b[1;33m.\u001b[0m\u001b[0mgenfromtxt\u001b[0m\u001b[1;33m(\u001b[0m\u001b[1;34m'Orbit_M33.txt'\u001b[0m\u001b[1;33m,\u001b[0m \u001b[0mdtype\u001b[0m \u001b[1;33m=\u001b[0m \u001b[0morbit_type\u001b[0m\u001b[1;33m)\u001b[0m\u001b[1;33m\u001b[0m\u001b[1;33m\u001b[0m\u001b[0m\n\u001b[0m\u001b[0;32m      5\u001b[0m \u001b[0mM31SimOrbit\u001b[0m \u001b[1;33m=\u001b[0m \u001b[0mnp\u001b[0m\u001b[1;33m.\u001b[0m\u001b[0mgenfromtxt\u001b[0m\u001b[1;33m(\u001b[0m\u001b[1;34m'Orbit_M31.txt'\u001b[0m\u001b[1;33m,\u001b[0m \u001b[0mdtype\u001b[0m \u001b[1;33m=\u001b[0m \u001b[0morbit_type\u001b[0m\u001b[1;33m)\u001b[0m\u001b[1;33m\u001b[0m\u001b[1;33m\u001b[0m\u001b[0m\n\u001b[0;32m      6\u001b[0m \u001b[1;33m\u001b[0m\u001b[0m\n",
      "\u001b[1;31mNameError\u001b[0m: name 'orbit_type' is not defined"
     ]
    }
   ],
   "source": [
    "# Actual Simulation\n",
    "\n",
    "# Read in simulation Orbit from Homework 6\n",
    "M33SimOrbit = np.genfromtxt('Orbit_M33.txt', dtype = orbit_type)\n",
    "M31SimOrbit = np.genfromtxt('Orbit_M31.txt', dtype = orbit_type)\n",
    "\n",
    "#Determine the magnitude of the position and velocities of \n",
    "# the galaxies at each point in the orbit\n",
    "M31_M33_SimR, M31_M33_SimV = relative_mag(M31SimOrbit, M33SimOrbit)"
   ]
  },
  {
   "cell_type": "code",
   "execution_count": 5,
   "metadata": {
    "ExecuteTime": {
     "end_time": "2020-03-16T03:10:13.673083Z",
     "start_time": "2020-03-16T03:10:13.585155Z"
    },
    "scrolled": true
   },
   "outputs": [
    {
     "ename": "NameError",
     "evalue": "name 'M33Orbit_Hmwk7' is not defined",
     "output_type": "error",
     "traceback": [
      "\u001b[1;31m---------------------------------------------------------------------------\u001b[0m",
      "\u001b[1;31mNameError\u001b[0m                                 Traceback (most recent call last)",
      "\u001b[1;32m~\\AppData\\Local\\Temp/ipykernel_9680/1960064459.py\u001b[0m in \u001b[0;36m<module>\u001b[1;34m\u001b[0m\n\u001b[0;32m      5\u001b[0m \u001b[1;33m\u001b[0m\u001b[0m\n\u001b[0;32m      6\u001b[0m \u001b[1;31m# Plot the analytical separation of M31 and M33 from Homework 7\u001b[0m\u001b[1;33m\u001b[0m\u001b[1;33m\u001b[0m\u001b[0m\n\u001b[1;32m----> 7\u001b[1;33m \u001b[0max\u001b[0m\u001b[1;33m.\u001b[0m\u001b[0mplot\u001b[0m\u001b[1;33m(\u001b[0m\u001b[0mM33Orbit_Hmwk7\u001b[0m\u001b[1;33m[\u001b[0m\u001b[1;34m't'\u001b[0m\u001b[1;33m]\u001b[0m\u001b[1;33m,\u001b[0m \u001b[0mM31_M33_R_Hmwk7\u001b[0m\u001b[1;33m,\u001b[0m \u001b[1;34m'b'\u001b[0m\u001b[1;33m,\u001b[0m \u001b[0mlw\u001b[0m\u001b[1;33m=\u001b[0m\u001b[1;36m5\u001b[0m\u001b[1;33m,\u001b[0m \u001b[0mlinestyle\u001b[0m\u001b[1;33m=\u001b[0m\u001b[1;34m\":\"\u001b[0m\u001b[1;33m,\u001b[0m \u001b[0mlabel\u001b[0m\u001b[1;33m=\u001b[0m\u001b[1;34m'M31-M33 No DF'\u001b[0m\u001b[1;33m)\u001b[0m\u001b[1;33m\u001b[0m\u001b[1;33m\u001b[0m\u001b[0m\n\u001b[0m\u001b[0;32m      8\u001b[0m \u001b[1;33m\u001b[0m\u001b[0m\n\u001b[0;32m      9\u001b[0m \u001b[1;31m# Plot the simulated separation of M31 and M33\u001b[0m\u001b[1;33m\u001b[0m\u001b[1;33m\u001b[0m\u001b[0m\n",
      "\u001b[1;31mNameError\u001b[0m: name 'M33Orbit_Hmwk7' is not defined"
     ]
    },
    {
     "data": {
      "image/png": "[encoded data removed]",
      "text/plain": [
       "<Figure size 864x720 with 1 Axes>"
      ]
     },
     "metadata": {
      "needs_background": "light"
     },
     "output_type": "display_data"
    }
   ],
   "source": [
    "# Plot the orbital separations of the galaxies \n",
    "#################################\n",
    "\n",
    "fig, ax= plt.subplots(figsize=(12, 10))\n",
    "\n",
    "# Plot the analytical separation of M31 and M33 from Homework 7\n",
    "ax.plot(M33Orbit_Hmwk7['t'], M31_M33_R_Hmwk7, 'b', lw=5, linestyle=\":\", label='M31-M33 No DF')\n",
    "\n",
    "# Plot the simulated separation of M31 and M33\n",
    "ax.plot(M33SimOrbit['t'], M31_M33_SimR, 'r', lw=5, label='M31-M33 Simulation')\n",
    "\n",
    "#### Plot the newly computed orbit with DF\n",
    "ax.plot(M33Orbit['t'], M31_M33_R, 'g', lw = 5, linestyle ='--', label = 'M31-M33 Simulation with DF')\n",
    "\n",
    "\n",
    "# Add axis labels\n",
    "ax.set_xlabel('Time (Gyr)', fontsize=22)\n",
    "ax.set_ylabel('Separation (kpc)', fontsize=22)\n",
    "ax.set_title(\"Separations vs. Time\", fontsize=22)\n",
    "\n",
    "#adjust tick label font size\n",
    "ax.xaxis.set_tick_params(labelsize=22)\n",
    "ax.yaxis.set_tick_params(labelsize=22)\n",
    "\n",
    "# add a legend with some customizations.\n",
    "legend = ax.legend(loc='upper left',fontsize=20)\n",
    "\n",
    "# tight layout\n",
    "fig.tight_layout()\n",
    "\n",
    "# Save to a file\n",
    "fig.savefig('orbit_M33_R_withDF.png')"
   ]
  },
  {
   "cell_type": "code",
   "execution_count": 6,
   "metadata": {
    "ExecuteTime": {
     "end_time": "2020-03-16T03:13:14.666621Z",
     "start_time": "2020-03-16T03:13:14.583039Z"
    }
   },
   "outputs": [
    {
     "ename": "NameError",
     "evalue": "name 'M33Orbit_Hmwk7' is not defined",
     "output_type": "error",
     "traceback": [
      "\u001b[1;31m---------------------------------------------------------------------------\u001b[0m",
      "\u001b[1;31mNameError\u001b[0m                                 Traceback (most recent call last)",
      "\u001b[1;32m~\\AppData\\Local\\Temp/ipykernel_9680/2310308831.py\u001b[0m in \u001b[0;36m<module>\u001b[1;34m\u001b[0m\n\u001b[0;32m      5\u001b[0m \u001b[1;33m\u001b[0m\u001b[0m\n\u001b[0;32m      6\u001b[0m \u001b[1;31m# Plot the analytical velocities of M31 and M33\u001b[0m\u001b[1;33m\u001b[0m\u001b[1;33m\u001b[0m\u001b[0m\n\u001b[1;32m----> 7\u001b[1;33m \u001b[0max\u001b[0m\u001b[1;33m.\u001b[0m\u001b[0mplot\u001b[0m\u001b[1;33m(\u001b[0m\u001b[0mM33Orbit_Hmwk7\u001b[0m\u001b[1;33m[\u001b[0m\u001b[1;34m't'\u001b[0m\u001b[1;33m]\u001b[0m\u001b[1;33m,\u001b[0m \u001b[0mM31_M33_V_Hmwk7\u001b[0m\u001b[1;33m,\u001b[0m \u001b[1;34m'b'\u001b[0m\u001b[1;33m,\u001b[0m \u001b[0mlw\u001b[0m\u001b[1;33m=\u001b[0m\u001b[1;36m5\u001b[0m\u001b[1;33m,\u001b[0m \u001b[0mlabel\u001b[0m\u001b[1;33m=\u001b[0m\u001b[1;34m'M31-M33 No DF'\u001b[0m\u001b[1;33m)\u001b[0m\u001b[1;33m\u001b[0m\u001b[1;33m\u001b[0m\u001b[0m\n\u001b[0m\u001b[0;32m      8\u001b[0m \u001b[1;33m\u001b[0m\u001b[0m\n\u001b[0;32m      9\u001b[0m \u001b[1;31m# Plot the simulated velocities of M31 and M33\u001b[0m\u001b[1;33m\u001b[0m\u001b[1;33m\u001b[0m\u001b[0m\n",
      "\u001b[1;31mNameError\u001b[0m: name 'M33Orbit_Hmwk7' is not defined"
     ]
    },
    {
     "data": {
      "image/png": "[encoded data removed]",
      "text/plain": [
       "<Figure size 864x720 with 1 Axes>"
      ]
     },
     "metadata": {
      "needs_background": "light"
     },
     "output_type": "display_data"
    }
   ],
   "source": [
    "# Plot the orbital velocities of the galaxies \n",
    "#################################\n",
    "\n",
    "fig, ax= plt.subplots(figsize=(12, 10))\n",
    "\n",
    "# Plot the analytical velocities of M31 and M33\n",
    "ax.plot(M33Orbit_Hmwk7['t'], M31_M33_V_Hmwk7, 'b', lw=5, label='M31-M33 No DF')\n",
    "\n",
    "# Plot the simulated velocities of M31 and M33\n",
    "ax.plot(M33SimOrbit['t'], M31_M33_SimV, 'r', lw=5, label='M31-M33 Simulation')\n",
    "\n",
    "###### Plot the new orbit with DF \n",
    "\n",
    "\n",
    "# Add axis labels\n",
    "ax.set_xlabel('Time (Gyr)', fontsize=22)\n",
    "ax.set_ylabel('Velocity (km/s)', fontsize=22)\n",
    "ax.set_title(\"Velocities vs. Time\", fontsize=22)\n",
    "\n",
    "#adjust tick label font size\n",
    "ax.xaxis.set_tick_params(labelsize=22)\n",
    "ax.yaxis.set_tick_params(labelsize=22)\n",
    "\n",
    "# add a legend with some customizations.\n",
    "legend = ax.legend(loc='upper left',fontsize=20)\n",
    "\n",
    "# tight layout\n",
    "fig.tight_layout()\n",
    "\n",
    "# Save to a file\n",
    "fig.savefig('orbit_M33_V_withDF.png')"
   ]
  },
  {
   "cell_type": "markdown",
   "metadata": {
    "collapsed": true
   },
   "source": [
    "# 6. What other reasons might there be for why the orbits don't match?"
   ]
  },
  {
   "cell_type": "code",
   "execution_count": null,
   "metadata": {},
   "outputs": [],
   "source": []
  }
 ],
 "metadata": {
  "kernelspec": {
   "display_name": "Python 3 (ipykernel)",
   "language": "python",
   "name": "python3"
  },
  "language_info": {
   "codemirror_mode": {
    "name": "ipython",
    "version": 3
   },
   "file_extension": ".py",
   "mimetype": "text/x-python",
   "name": "python",
   "nbconvert_exporter": "python",
   "pygments_lexer": "ipython3",
   "version": "3.9.7"
  },
  "varInspector": {
   "cols": {
    "lenName": 16,
    "lenType": 16,
    "lenVar": 40
   },
   "kernels_config": {
    "python": {
     "delete_cmd_postfix": "",
     "delete_cmd_prefix": "del ",
     "library": "var_list.py",
     "varRefreshCmd": "print(var_dic_list())"
    },
    "r": {
     "delete_cmd_postfix": ") ",
     "delete_cmd_prefix": "rm(",
     "library": "var_list.r",
     "varRefreshCmd": "cat(var_dic_list()) "
    }
   },
   "types_to_exclude": [
    "module",
    "function",
    "builtin_function_or_method",
    "instance",
    "_Feature"
   ],
   "window_display": false
  }
 },
 "nbformat": 4,
 "nbformat_minor": 4
}
